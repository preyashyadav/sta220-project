{
  "nbformat": 4,
  "nbformat_minor": 0,
  "metadata": {
    "colab": {
      "provenance": [],
      "gpuType": "T4"
    },
    "kernelspec": {
      "name": "python3",
      "display_name": "Python 3"
    },
    "language_info": {
      "name": "python"
    }
  },
  "cells": [
    {
      "cell_type": "code",
      "source": [
        "!pip install dash\n",
        "!pip install jupyter-dash\n",
        "!pip install yfinance\n",
        "!pip install plotly"
      ],
      "metadata": {
        "id": "P0vxlYC-1L34"
      },
      "execution_count": null,
      "outputs": []
    },
    {
      "cell_type": "code",
      "source": [
        "import pandas as pd\n",
        "import numpy as np\n",
        "import yfinance as yf\n",
        "import plotly.graph_objs as go\n",
        "from plotly.subplots import make_subplots\n",
        "import plotly.io as pio\n",
        "import os\n",
        "import glob"
      ],
      "metadata": {
        "id": "Ut4BmtrhK9Q4"
      },
      "execution_count": 25,
      "outputs": []
    },
    {
      "cell_type": "code",
      "source": [
        "# merging all the csvs into one easier to use for dashboard\n",
        "folder_path = '/content/merge_csvs'\n",
        "csv_files = glob.glob(os.path.join(folder_path, '*.csv'))\n",
        "dfs = [pd.read_csv(file) for file in csv_files]\n",
        "merged_df = pd.concat(dfs, ignore_index=True)\n",
        "merged_df.to_csv('tsla_new_merged.csv', index=False)"
      ],
      "metadata": {
        "id": "7kFP8xZr3cVQ"
      },
      "execution_count": 26,
      "outputs": []
    },
    {
      "cell_type": "code",
      "source": [
        "df = pd.read_csv('/content/tsla_new_merged.csv', low_memory=False)\n",
        "df['timestamp'] = pd.to_datetime(df['timestamp'])\n",
        "df['date'] = df['timestamp'].dt.date\n",
        "df['type'] = df['type'].str.lower()\n",
        "\n",
        "start_date = '2025-01-01'\n",
        "end_date = '2025-03-12'\n",
        "tsla = yf.download('TSLA', start=start_date, end=end_date, auto_adjust=False)\n",
        "\n",
        "if tsla.empty:\n",
        "    rng = pd.date_range(start_date, end_date, freq='D')\n",
        "    tsla = pd.DataFrame({'Close': np.linspace(600, 800, len(rng))}, index=rng)\n",
        "    tsla.reset_index(inplace=True)\n",
        "    tsla.rename(columns={'index': 'Date'}, inplace=True)\n",
        "else:\n",
        "    if isinstance(tsla.columns, pd.MultiIndex):\n",
        "        tsla.columns = tsla.columns.map(\n",
        "            lambda x: x[0] if x[0]=='Date' else (f\"{x[0]}_{x[1]}\" if x[1] else x[0])\n",
        "        )\n",
        "        tsla = tsla.loc[:, ~tsla.columns.duplicated()]\n",
        "    tsla.reset_index(inplace=True)\n",
        "    tsla['Date'] = pd.to_datetime(tsla['Date']).dt.date\n",
        "\n",
        "\n",
        "close_col = 'Close_TSLA' if 'Close_TSLA' in tsla.columns else 'Close'"
      ],
      "metadata": {
        "colab": {
          "base_uri": "https://localhost:8080/"
        },
        "id": "wT9rLA59JKjQ",
        "outputId": "606c93c9-bdcc-4988-874b-6a2a91efa7c1"
      },
      "execution_count": 27,
      "outputs": [
        {
          "output_type": "stream",
          "name": "stderr",
          "text": [
            "\r[*********************100%***********************]  1 of 1 completed\n"
          ]
        }
      ]
    },
    {
      "cell_type": "code",
      "source": [
        "tsla.set_index(pd.to_datetime(tsla['Date']), inplace=True)\n",
        "rng = pd.date_range(start_date, end_date, freq='D')\n",
        "tsla = tsla.reindex(rng)\n",
        "tsla[close_col] = tsla[close_col].ffill()\n",
        "tsla.reset_index(inplace=True)\n",
        "tsla.rename(columns={'index': 'Date'}, inplace=True)\n",
        "tsla = tsla.loc[:, ~tsla.columns.duplicated()]\n",
        "tsla['Date'] = pd.to_datetime(tsla['Date']).dt.date\n",
        "\n",
        "if close_col not in tsla.columns:\n",
        "    close_col = 'Close'\n",
        "\n",
        "\n",
        "sentiment_dict = {}\n",
        "platforms = df['platform'].unique()\n",
        "types = df['type'].unique()\n",
        "\n",
        "for p in platforms:\n",
        "    for t in types:\n",
        "        dff = df[(df['platform'] == p) & (df['type'] == t)]\n",
        "        if not dff.empty:\n",
        "            grp = dff.groupby('date')['sentiment_score'].mean().reset_index()\n",
        "            grp['date'] = pd.to_datetime(grp['date'])\n",
        "            sentiment_dict[(p, t)] = grp"
      ],
      "metadata": {
        "id": "4gU8xXNALL5R"
      },
      "execution_count": 28,
      "outputs": []
    },
    {
      "cell_type": "code",
      "source": [
        "fig = make_subplots(specs=[[{\"secondary_y\": True}]])\n",
        "\n",
        "\n",
        "fig.add_trace(\n",
        "    go.Scatter(\n",
        "        x=tsla['Date'], y=tsla[close_col],\n",
        "        mode='lines',\n",
        "        name='TSLA Close',\n",
        "        line=dict(color='blue', width=3),\n",
        "        connectgaps=True\n",
        "    ),\n",
        "    secondary_y=False\n",
        ")\n",
        "\n",
        "sentiment_traces = []\n",
        "for key, grp in sentiment_dict.items():\n",
        "    p, t = key\n",
        "    trace = go.Scatter(\n",
        "        x=grp['date'], y=grp['sentiment_score'],\n",
        "        mode='lines+markers',\n",
        "        name=f'{p} {t} sentiment',\n",
        "        visible=False\n",
        "    )\n",
        "    sentiment_traces.append(trace)\n",
        "    fig.add_trace(trace, secondary_y=True)\n",
        "\n",
        "\n",
        "if sentiment_traces:\n",
        "    fig.data[1].visible = True\n",
        "\n",
        "\n",
        "buttons = []\n",
        "num_sentiment = len(sentiment_traces)\n",
        "for i, key in enumerate(sentiment_dict.keys()):\n",
        "    p, t = key\n",
        "    vis = [True] + [False] * num_sentiment\n",
        "    vis[1+i] = True\n",
        "    buttons.append(dict(\n",
        "        label=f'{p} {t}',\n",
        "        method='update',\n",
        "        args=[{'visible': vis},\n",
        "              {'title': f'TSLA vs {p} {t} sentiment'}]\n",
        "    ))"
      ],
      "metadata": {
        "id": "vkSnITR_LY6L"
      },
      "execution_count": 29,
      "outputs": []
    },
    {
      "cell_type": "code",
      "source": [
        "fig.update_layout(\n",
        "    updatemenus=[dict(\n",
        "        active=0,\n",
        "        buttons=buttons,\n",
        "        x=1.1,\n",
        "        y=1\n",
        "    )],\n",
        "    title=\"TSLA Stock Performance vs. Sentiment\",\n",
        "    xaxis_title=\"Date\",\n",
        "    legend=dict(x=0, y=1)\n",
        ")\n",
        "\n",
        "tsla_min = tsla[close_col].min() * 0.95\n",
        "tsla_max = tsla[close_col].max() * 1.05\n",
        "fig.update_xaxes(type='date', range=[start_date, end_date])\n",
        "fig.update_yaxes(title_text=\"TSLA Close Price\", range=[tsla_min, tsla_max], secondary_y=False)\n",
        "fig.update_yaxes(title_text=\"Average Sentiment Score\", secondary_y=True)\n",
        "\n",
        "pio.write_html(fig, file='standalone_tsla_dashboard.html', auto_open=True)"
      ],
      "metadata": {
        "id": "vH3OtEKDLcf-"
      },
      "execution_count": 30,
      "outputs": []
    }
  ]
}